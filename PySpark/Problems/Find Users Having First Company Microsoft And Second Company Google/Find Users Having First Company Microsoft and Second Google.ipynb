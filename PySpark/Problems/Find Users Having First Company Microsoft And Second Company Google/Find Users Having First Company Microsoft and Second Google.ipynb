{
 "cells": [
  {
   "cell_type": "markdown",
   "id": "c5c79ae7-91d7-428c-8170-2336b373ead1",
   "metadata": {},
   "source": [
    "Write program in spark\n",
    " \n",
    "emp_id\t\temployer\t\tstartyear\t\tendyear<br>\n",
    "1001\t\tMicrosoft\t\t  2015\t\t\t 2020<br>\t\t\t \n",
    "1001\t\tGoogle\t\t\t  2020\t\t\t 2022<br>\t\n",
    "1002\t\tGoogle\t\t\t  2015\t\t\t 2020<br>\t\n",
    "1002\t\tAmazon\t\t  \t  2020\t\t\t 2022<br>\t\n",
    "1002\t\tMicrosoft\t\t  2022\t\t\t 2023<br>\n",
    "1003\t\tAmazon\t\t  \t  2020\t\t\t 2023<br>\n",
    " \n",
    "Retreive the employees along with the employer details whose first employer is Microsoft and next employer is Google"
   ]
  },
  {
   "cell_type": "code",
   "execution_count": 2,
   "id": "b35403ec-e2bb-43bc-8139-5c4602a5e403",
   "metadata": {},
   "outputs": [],
   "source": [
    "employee_data = \"\"\"\n",
    "emp_id\t\temployer\t\tstartyear\t\tendyear\n",
    "1001\t\tMicrosoft\t\t  2015\t\t\t 2020\t\t\t \n",
    "1001\t\tGoogle\t\t\t  2020\t\t\t 2022\t\n",
    "1002\t\tGoogle\t\t\t  2015\t\t\t 2020\t\n",
    "1002\t\tAmazon\t\t  \t  2020\t\t\t 2022\t\n",
    "1002\t\tMicrosoft\t\t  2022\t\t\t 2023\n",
    "1003\t\tAmazon\t\t  \t  2020\t\t\t 2023\n",
    "\"\"\""
   ]
  },
  {
   "cell_type": "code",
   "execution_count": 8,
   "id": "782859de-f963-4319-a01c-83351c3c3c57",
   "metadata": {},
   "outputs": [],
   "source": [
    "from pyspark.sql import SparkSession\n",
    "from pyspark.sql.functions import *"
   ]
  },
  {
   "cell_type": "code",
   "execution_count": 4,
   "id": "7ea319d4-c6ca-4e56-83fc-73b724bff70f",
   "metadata": {},
   "outputs": [],
   "source": [
    "spark = SparkSession.builder.appName(\"First Second Employers\").getOrCreate()"
   ]
  },
  {
   "cell_type": "code",
   "execution_count": 6,
   "id": "ccdadcae-3c0e-43e4-95fb-4212d25e4a44",
   "metadata": {},
   "outputs": [],
   "source": []
  },
  {
   "cell_type": "code",
   "execution_count": 10,
   "id": "1208003a-05cd-4e64-b8b6-56795cabb77e",
   "metadata": {},
   "outputs": [],
   "source": []
  },
  {
   "cell_type": "code",
   "execution_count": 37,
   "id": "6b5527e6-8509-47ca-9c4d-8d9e3e8cb1f0",
   "metadata": {},
   "outputs": [],
   "source": [
    "df = spark.readtext(\"./company.txt\")\n",
    "splited_value = split(df['value'],\"\\t\")\n",
    "df = df.withColumn(\"emp_id\",splited_value[0]).withColumn(\"employer\",splited_value[1]).withColumn(\"startyear\",splited_value[2]).withColumn(\"endyear\",splited_value[3])\n",
    "df = df.where(\"emp_id != 'emp_id'\")\n",
    "df = df.drop(\"value\")\n",
    "df.show()"
   ]
  },
  {
   "cell_type": "code",
   "execution_count": 43,
   "id": "7abc08a2-8faf-45e0-8a6a-4dd367a5dd1b",
   "metadata": {},
   "outputs": [
    {
     "name": "stdout",
     "output_type": "stream",
     "text": [
      "root\n",
      " |-- emp_id: string (nullable = true)\n",
      " |-- employer: string (nullable = true)\n",
      " |-- startyear: string (nullable = true)\n",
      " |-- endyear: string (nullable = true)\n",
      "\n"
     ]
    }
   ],
   "source": [
    "df.printSchema()"
   ]
  },
  {
   "cell_type": "code",
   "execution_count": 46,
   "id": "3ccd27a5-57f6-4e0b-8e2d-cdde081ea410",
   "metadata": {},
   "outputs": [],
   "source": [
    "df = df.withColumn(\"startyear\",col(\"startyear\").cast(\"int\")).withColumn(\"endyear\",col(\"endyear\").cast(\"int\"))"
   ]
  },
  {
   "cell_type": "code",
   "execution_count": 47,
   "id": "fd7669ce-e1cc-417d-88b3-cd49bf2fec92",
   "metadata": {},
   "outputs": [
    {
     "name": "stdout",
     "output_type": "stream",
     "text": [
      "root\n",
      " |-- emp_id: string (nullable = true)\n",
      " |-- employer: string (nullable = true)\n",
      " |-- startyear: integer (nullable = true)\n",
      " |-- endyear: integer (nullable = true)\n",
      "\n"
     ]
    }
   ],
   "source": [
    "df.printSchema()"
   ]
  },
  {
   "cell_type": "code",
   "execution_count": 48,
   "id": "f9bd3aaf-7551-4901-ae11-a18e81c67fa4",
   "metadata": {},
   "outputs": [
    {
     "name": "stdout",
     "output_type": "stream",
     "text": [
      "+------+---------+---------+-------+\n",
      "|emp_id| employer|startyear|endyear|\n",
      "+------+---------+---------+-------+\n",
      "|  1001|Microsoft|     2015|   2020|\n",
      "|  1001|   Google|     2020|   2022|\n",
      "|  1002|   Google|     2015|   2020|\n",
      "|  1002|   Amazon|     2020|   2022|\n",
      "|  1002|Microsoft|     2022|   2023|\n",
      "|  1003|   Amazon|     2020|   2023|\n",
      "+------+---------+---------+-------+\n",
      "\n"
     ]
    }
   ],
   "source": [
    "df.show()"
   ]
  },
  {
   "cell_type": "code",
   "execution_count": null,
   "id": "2d67591f-1e04-46be-aaa7-e162ccb43928",
   "metadata": {},
   "outputs": [],
   "source": []
  },
  {
   "cell_type": "code",
   "execution_count": null,
   "id": "d059bd89-a6c3-40bd-854b-bcb471519a15",
   "metadata": {},
   "outputs": [],
   "source": []
  },
  {
   "cell_type": "code",
   "execution_count": null,
   "id": "ae1e39d7-66b5-4087-8767-1d3dac7aec1f",
   "metadata": {},
   "outputs": [],
   "source": []
  },
  {
   "cell_type": "code",
   "execution_count": 65,
   "id": "757312e3-7b7e-45ec-9ba3-4824d26bb0f7",
   "metadata": {},
   "outputs": [],
   "source": [
    "from pyspark.sql.types import *\n",
    "from pyspark.sql.window import Window"
   ]
  },
  {
   "cell_type": "code",
   "execution_count": 61,
   "id": "7521762e-d06e-4cb5-b9fe-e3eb8a928bca",
   "metadata": {},
   "outputs": [],
   "source": [
    "df2_schema = StructType(\n",
    "    [\n",
    "        StructField(\"emp_id\",IntegerType(),False),\n",
    "        StructField(\"employer\",StringType(),False),\n",
    "        StructField(\"startyear\",IntegerType(),False),\n",
    "        StructField(\"endyear\",IntegerType(),False)\n",
    "    ]\n",
    ")"
   ]
  },
  {
   "cell_type": "code",
   "execution_count": 62,
   "id": "b9aa4e37-9c73-4ca2-bd78-6243baa5ea7b",
   "metadata": {},
   "outputs": [
    {
     "name": "stdout",
     "output_type": "stream",
     "text": [
      "+------+---------+---------+-------+\n",
      "|emp_id| employer|startyear|endyear|\n",
      "+------+---------+---------+-------+\n",
      "|  1001|Microsoft|     2015|   2020|\n",
      "|  1001|   Google|     2020|   2022|\n",
      "|  1002|   Google|     2015|   2020|\n",
      "|  1002|   Amazon|     2020|   2022|\n",
      "|  1002|Microsoft|     2022|   2023|\n",
      "|  1003|   Amazon|     2020|   2023|\n",
      "+------+---------+---------+-------+\n",
      "\n"
     ]
    }
   ],
   "source": [
    "df2 = spark.read.schema(df2_schema).option(\"header\",True).option(\"delimiter\",\"\\t\").csv(\"./company.txt\")\n",
    "df2.show()"
   ]
  },
  {
   "cell_type": "code",
   "execution_count": 66,
   "id": "f22b3e35-2b16-472d-b75b-3cd4eefa2200",
   "metadata": {},
   "outputs": [],
   "source": [
    "df_window = Window().partitionBy(\"emp_id\").orderBy(\"startyear\")"
   ]
  },
  {
   "cell_type": "code",
   "execution_count": 74,
   "id": "71c113e1-2240-4861-be67-e50984712079",
   "metadata": {},
   "outputs": [
    {
     "name": "stdout",
     "output_type": "stream",
     "text": [
      "+------+---------+---------+-------+-------------+------------+-------+\n",
      "|emp_id| employer|startyear|endyear|firstEmployer|nextEmployer|isFirst|\n",
      "+------+---------+---------+-------+-------------+------------+-------+\n",
      "|  1001|Microsoft|     2015|   2020|    Microsoft|      Google|      1|\n",
      "|  1001|   Google|     2020|   2022|    Microsoft|        NULL|      2|\n",
      "|  1002|   Google|     2015|   2020|       Google|      Amazon|      1|\n",
      "|  1002|   Amazon|     2020|   2022|       Google|   Microsoft|      2|\n",
      "|  1002|Microsoft|     2022|   2023|       Google|        NULL|      3|\n",
      "|  1003|   Amazon|     2020|   2023|       Amazon|        NULL|      1|\n",
      "+------+---------+---------+-------+-------------+------------+-------+\n",
      "\n"
     ]
    }
   ],
   "source": [
    "df = df2\n",
    "df = df.withColumn(\"firstEmployer\",first(\"employer\").over(df_window))\n",
    "df = df.withColumn(\"nextEmployer\",lead(\"employer\").over(df_window))\n",
    "df = df.withColumn(\"isFirst\",row_number().over(df_window))\n",
    "df.show()"
   ]
  },
  {
   "cell_type": "code",
   "execution_count": 83,
   "id": "ebc93bed-9829-4899-80e6-e469f76b56ad",
   "metadata": {},
   "outputs": [],
   "source": [
    "filterd_df = df.where(\"isFirst = 1 and firstEmployer = 'Microsoft' and nextEmployer='Google' \").select([\"emp_id\"])\n"
   ]
  },
  {
   "cell_type": "code",
   "execution_count": 90,
   "id": "05c37a28-8424-4ff7-9da3-c3724c7a8b6e",
   "metadata": {},
   "outputs": [
    {
     "name": "stdout",
     "output_type": "stream",
     "text": [
      "+------+---------+---------+-------+\n",
      "|emp_id| employer|startyear|endyear|\n",
      "+------+---------+---------+-------+\n",
      "|  1001|Microsoft|     2015|   2020|\n",
      "|  1001|   Google|     2020|   2022|\n",
      "+------+---------+---------+-------+\n",
      "\n"
     ]
    }
   ],
   "source": [
    "df.alias(\"a\").join(filterd_df.alias(\"b\"),df.emp_id == filterd_df.emp_id).select([\"a.emp_id\",\"employer\",\"startyear\",\"endyear\"]).show()"
   ]
  },
  {
   "cell_type": "code",
   "execution_count": null,
   "id": "f13edbe6-88dc-4d5d-b695-4096844f6360",
   "metadata": {},
   "outputs": [],
   "source": []
  }
 ],
 "metadata": {
  "kernelspec": {
   "display_name": "Python 3 (ipykernel)",
   "language": "python",
   "name": "python3"
  },
  "language_info": {
   "codemirror_mode": {
    "name": "ipython",
    "version": 3
   },
   "file_extension": ".py",
   "mimetype": "text/x-python",
   "name": "python",
   "nbconvert_exporter": "python",
   "pygments_lexer": "ipython3",
   "version": "3.11.7"
  }
 },
 "nbformat": 4,
 "nbformat_minor": 5
}
